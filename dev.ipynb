{
 "cells": [
  {
   "cell_type": "code",
   "execution_count": 1,
   "metadata": {},
   "outputs": [],
   "source": [
    "from transformers import BioGptTokenizer\n",
    "tokenizer = BioGptTokenizer.from_pretrained(\"microsoft/biogpt\")\n"
   ]
  },
  {
   "cell_type": "code",
   "execution_count": 6,
   "metadata": {},
   "outputs": [
    {
     "ename": "AssertionError",
     "evalue": "Key clinical_s_token is not a special token",
     "output_type": "error",
     "traceback": [
      "\u001b[1;31m---------------------------------------------------------------------------\u001b[0m",
      "\u001b[1;31mAssertionError\u001b[0m                            Traceback (most recent call last)",
      "Cell \u001b[1;32mIn[6], line 2\u001b[0m\n\u001b[0;32m      1\u001b[0m special_tokens_dict \u001b[38;5;241m=\u001b[39m {\u001b[38;5;124m\"\u001b[39m\u001b[38;5;124mclinical_s_token\u001b[39m\u001b[38;5;124m\"\u001b[39m: \u001b[38;5;124m\"\u001b[39m\u001b[38;5;124m<CLINICAL>\u001b[39m\u001b[38;5;124m\"\u001b[39m}\n\u001b[1;32m----> 2\u001b[0m num_added_toks \u001b[38;5;241m=\u001b[39m \u001b[43mtokenizer\u001b[49m\u001b[38;5;241;43m.\u001b[39;49m\u001b[43madd_special_tokens\u001b[49m\u001b[43m(\u001b[49m\u001b[43mspecial_tokens_dict\u001b[49m\u001b[43m)\u001b[49m\n",
      "File \u001b[1;32mc:\\Users\\mike8\\anaconda3\\envs\\pytorch\\lib\\site-packages\\transformers\\tokenization_utils_base.py:936\u001b[0m, in \u001b[0;36mSpecialTokensMixin.add_special_tokens\u001b[1;34m(self, special_tokens_dict, replace_additional_special_tokens)\u001b[0m\n\u001b[0;32m    934\u001b[0m added_tokens \u001b[38;5;241m=\u001b[39m []\n\u001b[0;32m    935\u001b[0m \u001b[38;5;28;01mfor\u001b[39;00m key, value \u001b[38;5;129;01min\u001b[39;00m special_tokens_dict\u001b[38;5;241m.\u001b[39mitems():\n\u001b[1;32m--> 936\u001b[0m     \u001b[38;5;28;01massert\u001b[39;00m key \u001b[38;5;129;01min\u001b[39;00m \u001b[38;5;28mself\u001b[39m\u001b[38;5;241m.\u001b[39mSPECIAL_TOKENS_ATTRIBUTES, \u001b[38;5;124mf\u001b[39m\u001b[38;5;124m\"\u001b[39m\u001b[38;5;124mKey \u001b[39m\u001b[38;5;132;01m{\u001b[39;00mkey\u001b[38;5;132;01m}\u001b[39;00m\u001b[38;5;124m is not a special token\u001b[39m\u001b[38;5;124m\"\u001b[39m\n\u001b[0;32m    938\u001b[0m     \u001b[38;5;28;01mif\u001b[39;00m \u001b[38;5;28mself\u001b[39m\u001b[38;5;241m.\u001b[39mverbose:\n\u001b[0;32m    939\u001b[0m         logger\u001b[38;5;241m.\u001b[39minfo(\u001b[38;5;124mf\u001b[39m\u001b[38;5;124m\"\u001b[39m\u001b[38;5;124mAssigning \u001b[39m\u001b[38;5;132;01m{\u001b[39;00mvalue\u001b[38;5;132;01m}\u001b[39;00m\u001b[38;5;124m to the \u001b[39m\u001b[38;5;132;01m{\u001b[39;00mkey\u001b[38;5;132;01m}\u001b[39;00m\u001b[38;5;124m key of the tokenizer\u001b[39m\u001b[38;5;124m\"\u001b[39m)\n",
      "\u001b[1;31mAssertionError\u001b[0m: Key clinical_s_token is not a special token"
     ]
    }
   ],
   "source": [
    "special_tokens_dict = {\"clinical_s_token\": \"<CLINICAL>\"}\n",
    "num_added_toks = tokenizer.add_special_tokens(special_tokens_dict)"
   ]
  },
  {
   "cell_type": "code",
   "execution_count": null,
   "metadata": {},
   "outputs": [],
   "source": [
    "sep_tokens = [\n",
    "    \"<IMG>\",\n",
    "    \"</IMG>\",\n",
    "    \"<REPORT>\",\n",
    "    \"</REPORT>\",\n",
    "    \"<CLINICAL>\",\n",
    "    \"</CLINICAL>\",\n",
    "    \"<CHEXPERT>\",\n",
    "    \"</CHEXPERT>\"\n",
    "    \"<BB>\"\n",
    "    \"</BB>\"\n",
    "]\n",
    "\n",
    "tokenizer.add_tokens()"
   ]
  },
  {
   "cell_type": "code",
   "execution_count": 10,
   "metadata": {},
   "outputs": [
    {
     "data": {
      "text/plain": [
       "{'input_ids': [2, 22, 121, 14, 746, 262], 'attention_mask': [1, 1, 1, 1, 1, 1]}"
      ]
     },
     "execution_count": 10,
     "metadata": {},
     "output_type": "execute_result"
    }
   ],
   "source": [
    "tokenizer(\"that's a good day\")"
   ]
  },
  {
   "cell_type": "code",
   "execution_count": 7,
   "metadata": {},
   "outputs": [
    {
     "data": {
      "text/plain": [
       "['bos_token',\n",
       " 'eos_token',\n",
       " 'unk_token',\n",
       " 'sep_token',\n",
       " 'pad_token',\n",
       " 'cls_token',\n",
       " 'mask_token',\n",
       " 'additional_special_tokens']"
      ]
     },
     "execution_count": 7,
     "metadata": {},
     "output_type": "execute_result"
    }
   ],
   "source": [
    "tokenizer.SPECIAL_TOKENS_ATTRIBUTES"
   ]
  },
  {
   "cell_type": "code",
   "execution_count": null,
   "metadata": {},
   "outputs": [],
   "source": []
  },
  {
   "cell_type": "code",
   "execution_count": 1,
   "metadata": {},
   "outputs": [],
   "source": [
    "from dataset.reflacx import REFLACXDataset\n",
    "from torch.utils.data import DataLoader\n",
    "import torch\n",
    "from model.encoders import *\n",
    "\n",
    "# import warnings\n",
    "# import pandas as pd\n",
    "# pd.options.mode.chained_assignment = None  # default='warn'\n",
    "# warnings.filterwarnings(\"ignore\")"
   ]
  },
  {
   "cell_type": "code",
   "execution_count": 2,
   "metadata": {},
   "outputs": [],
   "source": [
    "d = REFLACXDataset(\n",
    "    df_path=\"./spreadsheets/reflacx_clinical.csv\",\n",
    "    mimic_eye_path=\"F:\\\\mimic-eye\",\n",
    "    image_size=128,\n",
    "    split_str=\"train\",\n",
    ")"
   ]
  },
  {
   "cell_type": "code",
   "execution_count": 3,
   "metadata": {},
   "outputs": [],
   "source": [
    "loader = DataLoader(\n",
    "    d,\n",
    "    batch_size=4,\n",
    "    shuffle=True,\n",
    "    collate_fn= lambda x: tuple(zip(*x)),\n",
    "    drop_last=False,\n",
    ")"
   ]
  },
  {
   "cell_type": "code",
   "execution_count": 4,
   "metadata": {},
   "outputs": [
    {
     "name": "stderr",
     "output_type": "stream",
     "text": [
      "c:\\Users\\mike8\\OneDrive\\文件\\GitHub\\fusion-experiments\\dataset\\reflacx.py:213: FutureWarning: Series.__getitem__ treating keys as positions is deprecated. In a future version, integer keys will always be treated as labels (consistent with DataFrame behavior). To access a value by position, use `ser.iloc[pos]`\n",
      "  return torch.tensor(data[self.chexpert_label_cols]) == 1\n",
      "c:\\Users\\mike8\\OneDrive\\文件\\GitHub\\fusion-experiments\\dataset\\reflacx.py:231: FutureWarning: Series.__getitem__ treating keys as positions is deprecated. In a future version, integer keys will always be treated as labels (consistent with DataFrame behavior). To access a value by position, use `ser.iloc[pos]`\n",
      "  return torch.tensor(data[self.clinical_labels], dtype=torch.float32)\n",
      "c:\\Users\\mike8\\OneDrive\\文件\\GitHub\\fusion-experiments\\dataset\\reflacx.py:213: FutureWarning: Series.__getitem__ treating keys as positions is deprecated. In a future version, integer keys will always be treated as labels (consistent with DataFrame behavior). To access a value by position, use `ser.iloc[pos]`\n",
      "  return torch.tensor(data[self.chexpert_label_cols]) == 1\n",
      "c:\\Users\\mike8\\OneDrive\\文件\\GitHub\\fusion-experiments\\dataset\\reflacx.py:231: FutureWarning: Series.__getitem__ treating keys as positions is deprecated. In a future version, integer keys will always be treated as labels (consistent with DataFrame behavior). To access a value by position, use `ser.iloc[pos]`\n",
      "  return torch.tensor(data[self.clinical_labels], dtype=torch.float32)\n",
      "c:\\Users\\mike8\\OneDrive\\文件\\GitHub\\fusion-experiments\\dataset\\reflacx.py:213: FutureWarning: Series.__getitem__ treating keys as positions is deprecated. In a future version, integer keys will always be treated as labels (consistent with DataFrame behavior). To access a value by position, use `ser.iloc[pos]`\n",
      "  return torch.tensor(data[self.chexpert_label_cols]) == 1\n",
      "c:\\Users\\mike8\\OneDrive\\文件\\GitHub\\fusion-experiments\\dataset\\reflacx.py:231: FutureWarning: Series.__getitem__ treating keys as positions is deprecated. In a future version, integer keys will always be treated as labels (consistent with DataFrame behavior). To access a value by position, use `ser.iloc[pos]`\n",
      "  return torch.tensor(data[self.clinical_labels], dtype=torch.float32)\n",
      "c:\\Users\\mike8\\OneDrive\\文件\\GitHub\\fusion-experiments\\dataset\\reflacx.py:213: FutureWarning: Series.__getitem__ treating keys as positions is deprecated. In a future version, integer keys will always be treated as labels (consistent with DataFrame behavior). To access a value by position, use `ser.iloc[pos]`\n",
      "  return torch.tensor(data[self.chexpert_label_cols]) == 1\n",
      "c:\\Users\\mike8\\OneDrive\\文件\\GitHub\\fusion-experiments\\dataset\\reflacx.py:231: FutureWarning: Series.__getitem__ treating keys as positions is deprecated. In a future version, integer keys will always be treated as labels (consistent with DataFrame behavior). To access a value by position, use `ser.iloc[pos]`\n",
      "  return torch.tensor(data[self.clinical_labels], dtype=torch.float32)\n"
     ]
    }
   ],
   "source": [
    "data = next(iter(loader))"
   ]
  },
  {
   "cell_type": "code",
   "execution_count": 5,
   "metadata": {},
   "outputs": [],
   "source": [
    "model = OneDCoreModel(\n",
    "    hidden_dim=128,\n",
    "    out_dim=len(loader.dataset.clinical_labels),\n",
    ")"
   ]
  },
  {
   "cell_type": "code",
   "execution_count": 7,
   "metadata": {},
   "outputs": [
    {
     "name": "stderr",
     "output_type": "stream",
     "text": [
      "c:\\Users\\mike8\\OneDrive\\文件\\GitHub\\fusion-experiments\\model\\encoders.py:238: UserWarning: To copy construct from a tensor, it is recommended to use sourceTensor.clone().detach() or sourceTensor.clone().detach().requires_grad_(True), rather than torch.tensor(sourceTensor).\n",
      "  return out[torch.arange(n), torch.tensor(lengths).long() - 1, :]\n"
     ]
    }
   ],
   "source": [
    "out = model(data[0])"
   ]
  },
  {
   "cell_type": "code",
   "execution_count": 8,
   "metadata": {},
   "outputs": [
    {
     "data": {
      "text/plain": [
       "torch.Size([4, 6])"
      ]
     },
     "execution_count": 8,
     "metadata": {},
     "output_type": "execute_result"
    }
   ],
   "source": [
    "out.shape"
   ]
  },
  {
   "cell_type": "code",
   "execution_count": 9,
   "metadata": {},
   "outputs": [
    {
     "data": {
      "text/plain": [
       "({'xray': tensor([[[0.0000, 0.0000, 0.0000,  ..., 0.0000, 0.0000, 0.0000],\n",
       "           [0.0000, 0.0510, 0.0510,  ..., 0.0000, 0.0000, 0.0000],\n",
       "           [0.0000, 0.0431, 0.0510,  ..., 0.0000, 0.0000, 0.0000],\n",
       "           ...,\n",
       "           [0.0000, 0.0627, 0.0549,  ..., 0.0000, 0.0000, 0.0000],\n",
       "           [0.0000, 0.0627, 0.0588,  ..., 0.0000, 0.0000, 0.0000],\n",
       "           [0.0000, 0.0706, 0.0627,  ..., 0.0000, 0.0000, 0.0000]],\n",
       "  \n",
       "          [[0.0000, 0.0000, 0.0000,  ..., 0.0000, 0.0000, 0.0000],\n",
       "           [0.0000, 0.0510, 0.0510,  ..., 0.0000, 0.0000, 0.0000],\n",
       "           [0.0000, 0.0431, 0.0510,  ..., 0.0000, 0.0000, 0.0000],\n",
       "           ...,\n",
       "           [0.0000, 0.0627, 0.0549,  ..., 0.0000, 0.0000, 0.0000],\n",
       "           [0.0000, 0.0627, 0.0588,  ..., 0.0000, 0.0000, 0.0000],\n",
       "           [0.0000, 0.0706, 0.0627,  ..., 0.0000, 0.0000, 0.0000]],\n",
       "  \n",
       "          [[0.0000, 0.0000, 0.0000,  ..., 0.0000, 0.0000, 0.0000],\n",
       "           [0.0000, 0.0510, 0.0510,  ..., 0.0000, 0.0000, 0.0000],\n",
       "           [0.0000, 0.0431, 0.0510,  ..., 0.0000, 0.0000, 0.0000],\n",
       "           ...,\n",
       "           [0.0000, 0.0627, 0.0549,  ..., 0.0000, 0.0000, 0.0000],\n",
       "           [0.0000, 0.0627, 0.0588,  ..., 0.0000, 0.0000, 0.0000],\n",
       "           [0.0000, 0.0706, 0.0627,  ..., 0.0000, 0.0000, 0.0000]]]),\n",
       "  'bb_label': {'boxes': tensor([], size=(0, 4)),\n",
       "   'labels': tensor([], dtype=torch.int64)},\n",
       "  'clinical_data': {'cat': {'gender': tensor(1, dtype=torch.int32)},\n",
       "   'num': tensor([-0.3204])},\n",
       "  'chexpert_label': tensor([False, False, False, False, False, False, False,  True, False,  True,\n",
       "          False, False, False, False]),\n",
       "  'report': 'EXAMINATION:  CHEST (PA AND LAT)  INDICATION:  ___M with confusion  // Acute cardiopulm disease  TECHNIQUE:  Chest PA and Lateral  COMPARISON:  Multiple prior radiographs dating back to ___  FINDINGS:   There is at prominence of the interstitial markings although less extensive when compared to prior. There is no confluent consolidation or effusion. The heart size is normal. No focal consolidations concerning for pneumonia. No pneumothorax.  A TIPS is identified in the right upper quadrant.  IMPRESSION:   Continued prominence of the interstitial markings, although less extensive than on prior and no current pleural effusions. These may be due to mild pulmonary edema or chronic underlying interstitial process.'},\n",
       " {'xray': tensor([[[0.0000, 0.0000, 0.0000,  ..., 0.1451, 0.1490, 0.1765],\n",
       "           [0.0000, 0.0000, 0.0000,  ..., 0.0667, 0.0980, 0.1059],\n",
       "           [0.0000, 0.0000, 0.0039,  ..., 0.0863, 0.1020, 0.1294],\n",
       "           ...,\n",
       "           [0.8667, 0.8667, 0.8824,  ..., 0.9882, 0.9961, 0.9843],\n",
       "           [0.8863, 0.8902, 0.8824,  ..., 0.9882, 0.9922, 0.9961],\n",
       "           [0.8745, 0.8784, 0.8980,  ..., 0.9961, 0.9882, 0.9922]],\n",
       "  \n",
       "          [[0.0000, 0.0000, 0.0000,  ..., 0.1451, 0.1490, 0.1765],\n",
       "           [0.0000, 0.0000, 0.0000,  ..., 0.0667, 0.0980, 0.1059],\n",
       "           [0.0000, 0.0000, 0.0039,  ..., 0.0863, 0.1020, 0.1294],\n",
       "           ...,\n",
       "           [0.8667, 0.8667, 0.8824,  ..., 0.9882, 0.9961, 0.9843],\n",
       "           [0.8863, 0.8902, 0.8824,  ..., 0.9882, 0.9922, 0.9961],\n",
       "           [0.8745, 0.8784, 0.8980,  ..., 0.9961, 0.9882, 0.9922]],\n",
       "  \n",
       "          [[0.0000, 0.0000, 0.0000,  ..., 0.1451, 0.1490, 0.1765],\n",
       "           [0.0000, 0.0000, 0.0000,  ..., 0.0667, 0.0980, 0.1059],\n",
       "           [0.0000, 0.0000, 0.0039,  ..., 0.0863, 0.1020, 0.1294],\n",
       "           ...,\n",
       "           [0.8667, 0.8667, 0.8824,  ..., 0.9882, 0.9961, 0.9843],\n",
       "           [0.8863, 0.8902, 0.8824,  ..., 0.9882, 0.9922, 0.9961],\n",
       "           [0.8745, 0.8784, 0.8980,  ..., 0.9961, 0.9882, 0.9922]]]),\n",
       "  'bb_label': {'boxes': tensor([[0.8071, 0.6618, 0.3118, 0.2402],\n",
       "           [0.8071, 0.6618, 0.3118, 0.2402],\n",
       "           [0.2801, 0.6993, 0.3397, 0.2382],\n",
       "           [0.6674, 0.6849, 0.5684, 0.3259]]),\n",
       "   'labels': tensor([4, 3, 4, 2])},\n",
       "  'clinical_data': {'cat': {'gender': tensor(0, dtype=torch.int32)},\n",
       "   'num': tensor([-0.3745])},\n",
       "  'chexpert_label': tensor([False,  True, False,  True, False, False, False,  True, False, False,\n",
       "          False, False, False, False]),\n",
       "  'report': \"INDICATION:  Fever.  Assess for pneumonia.  COMPARISONS:  ___ and ___.  FINDINGS:  Portable upright view of the chest demonstrates low lung volumes.  The study is somewhat limited due to patient's body habitus.  Hilar and mediastinal silhouettes are unchanged.  Intrathoracic aorta is tortuous.  Heart is mildly enlarged, unchanged.  Linear opacity in the left lung base is longstanding and likely represents an area of scarring.  There is mild pulmonary edema.  Bibasilar opacities are noted, which may reflect atelectasis.  A fixation hardware overlying of the right humerus is noted.  IMPRESSION:  Mild cardiomegaly and pulmonary edema.  Bibasilar opacities, likely atelectasis or infection in the appropriate clinical setting.\"},\n",
       " {'xray': tensor([[[0., 0., 0.,  ..., 0., 0., 0.],\n",
       "           [0., 0., 0.,  ..., 0., 0., 0.],\n",
       "           [0., 0., 0.,  ..., 0., 0., 0.],\n",
       "           ...,\n",
       "           [0., 0., 0.,  ..., 0., 0., 0.],\n",
       "           [0., 0., 0.,  ..., 0., 0., 0.],\n",
       "           [0., 0., 0.,  ..., 0., 0., 0.]],\n",
       "  \n",
       "          [[0., 0., 0.,  ..., 0., 0., 0.],\n",
       "           [0., 0., 0.,  ..., 0., 0., 0.],\n",
       "           [0., 0., 0.,  ..., 0., 0., 0.],\n",
       "           ...,\n",
       "           [0., 0., 0.,  ..., 0., 0., 0.],\n",
       "           [0., 0., 0.,  ..., 0., 0., 0.],\n",
       "           [0., 0., 0.,  ..., 0., 0., 0.]],\n",
       "  \n",
       "          [[0., 0., 0.,  ..., 0., 0., 0.],\n",
       "           [0., 0., 0.,  ..., 0., 0., 0.],\n",
       "           [0., 0., 0.,  ..., 0., 0., 0.],\n",
       "           ...,\n",
       "           [0., 0., 0.,  ..., 0., 0., 0.],\n",
       "           [0., 0., 0.,  ..., 0., 0., 0.],\n",
       "           [0., 0., 0.,  ..., 0., 0., 0.]]]),\n",
       "  'bb_label': {'boxes': tensor([], size=(0, 4)),\n",
       "   'labels': tensor([], dtype=torch.int64)},\n",
       "  'clinical_data': {'cat': {'gender': tensor(1, dtype=torch.int32)},\n",
       "   'num': tensor([0.2746])},\n",
       "  'chexpert_label': tensor([False, False, False, False, False, False,  True, False, False, False,\n",
       "          False, False, False, False]),\n",
       "  'report': 'EXAMINATION:  CHEST RADIOGRAPHS  INDICATION:  Chest pain.  COMPARISON:  Radiographs and CT from ___.  TECHNIQUE:  Chest, PA and lateral.  FINDINGS:   The cardiac, mediastinal and hilar contours appear stable.  There is no pleural effusion or pneumothorax.  A nodular density with cavitation along the right lower lobe abutting the hemidiaphragm is more distinctly visible but probably decreased in size since the prior study, now with smooth margins.  This may represent a resolving pulmonary infarct but should be followed with either radiography or CT within 6 months to reassess.  IMPRESSION:   1.  No evidence of acute cardiopulmonary disease.  2. Persistent nodular density along the right hemidiaphragm, suspected to represent a small cavitating nodule associated with prior infarct.  However, follow-up is recommended with either radiography or CT within 6 months for surveillance.'},\n",
       " {'xray': tensor([[[0.4471, 0.4431, 0.4392,  ..., 0.4549, 0.4588, 0.4627],\n",
       "           [0.4314, 0.4078, 0.4078,  ..., 0.4196, 0.4353, 0.4314],\n",
       "           [0.3961, 0.3843, 0.3765,  ..., 0.3804, 0.3961, 0.4000],\n",
       "           ...,\n",
       "           [0.9294, 0.9373, 0.9569,  ..., 0.9059, 0.9059, 0.8902],\n",
       "           [0.9608, 0.9412, 0.9373,  ..., 0.9176, 0.9020, 0.9059],\n",
       "           [0.9529, 0.9765, 0.9608,  ..., 0.9020, 0.9098, 0.9137]],\n",
       "  \n",
       "          [[0.4471, 0.4431, 0.4392,  ..., 0.4549, 0.4588, 0.4627],\n",
       "           [0.4314, 0.4078, 0.4078,  ..., 0.4196, 0.4353, 0.4314],\n",
       "           [0.3961, 0.3843, 0.3765,  ..., 0.3804, 0.3961, 0.4000],\n",
       "           ...,\n",
       "           [0.9294, 0.9373, 0.9569,  ..., 0.9059, 0.9059, 0.8902],\n",
       "           [0.9608, 0.9412, 0.9373,  ..., 0.9176, 0.9020, 0.9059],\n",
       "           [0.9529, 0.9765, 0.9608,  ..., 0.9020, 0.9098, 0.9137]],\n",
       "  \n",
       "          [[0.4471, 0.4431, 0.4392,  ..., 0.4549, 0.4588, 0.4627],\n",
       "           [0.4314, 0.4078, 0.4078,  ..., 0.4196, 0.4353, 0.4314],\n",
       "           [0.3961, 0.3843, 0.3765,  ..., 0.3804, 0.3961, 0.4000],\n",
       "           ...,\n",
       "           [0.9294, 0.9373, 0.9569,  ..., 0.9059, 0.9059, 0.8902],\n",
       "           [0.9608, 0.9412, 0.9373,  ..., 0.9176, 0.9020, 0.9059],\n",
       "           [0.9529, 0.9765, 0.9608,  ..., 0.9020, 0.9098, 0.9137]]]),\n",
       "  'bb_label': {'boxes': tensor([[0.5651, 0.5888, 0.4603, 0.2156],\n",
       "           [0.2697, 0.5350, 0.1824, 0.1885],\n",
       "           [0.6855, 0.5380, 0.2209, 0.2147]]),\n",
       "   'labels': tensor([2, 1, 1])},\n",
       "  'clinical_data': {'cat': {'gender': tensor(0, dtype=torch.int32)},\n",
       "   'num': tensor([1.5187])},\n",
       "  'chexpert_label': tensor([False, False, False,  True, False, False, False, False, False, False,\n",
       "          False, False, False, False]),\n",
       "  'report': 'HISTORY:  Pleuritic chest pain, assess for pericardial effusion or congestive heart failure.  COMPARISON:  ___.  FINDINGS: Portable AP upright chest radiograph was obtained.  Lungs are somewhat low in volume with resultant bronchovascular crowding.  Within this limitation, there may be mild pulmonary edema.  Cardiac size remains stably enlarged.  No pneumothorax or pleural effusion is identified.  IMPRESSION: Perhaps mild pulmonary edema with assessment limited by low lung volumes.'})"
      ]
     },
     "execution_count": 9,
     "metadata": {},
     "output_type": "execute_result"
    }
   ],
   "source": [
    "data[0]"
   ]
  },
  {
   "cell_type": "code",
   "execution_count": null,
   "metadata": {},
   "outputs": [],
   "source": []
  },
  {
   "cell_type": "code",
   "execution_count": null,
   "metadata": {},
   "outputs": [],
   "source": []
  },
  {
   "cell_type": "code",
   "execution_count": null,
   "metadata": {},
   "outputs": [],
   "source": []
  },
  {
   "cell_type": "code",
   "execution_count": null,
   "metadata": {},
   "outputs": [],
   "source": []
  },
  {
   "cell_type": "code",
   "execution_count": 5,
   "metadata": {},
   "outputs": [],
   "source": [
    "modalities = ['xray', 'bb_label', 'clinical_data', 'chexpert_label', 'report']\n",
    "\n",
    "batch_map = {\n",
    "    m: [ d[m] for d in data[0]]\n",
    "    for m in modalities\n",
    "}"
   ]
  },
  {
   "cell_type": "code",
   "execution_count": 6,
   "metadata": {},
   "outputs": [],
   "source": []
  },
  {
   "cell_type": "code",
   "execution_count": 7,
   "metadata": {},
   "outputs": [],
   "source": [
    "imgs = torch.stack(batch_map['xray'])"
   ]
  },
  {
   "cell_type": "code",
   "execution_count": 8,
   "metadata": {},
   "outputs": [],
   "source": [
    "img_enc = ImageEncoder(hidden_dim=128)"
   ]
  },
  {
   "cell_type": "code",
   "execution_count": 9,
   "metadata": {},
   "outputs": [],
   "source": [
    "img_out = img_enc(imgs)"
   ]
  },
  {
   "cell_type": "code",
   "execution_count": 10,
   "metadata": {},
   "outputs": [
    {
     "data": {
      "text/plain": [
       "torch.Size([4, 128])"
      ]
     },
     "execution_count": 10,
     "metadata": {},
     "output_type": "execute_result"
    }
   ],
   "source": [
    "img_out.shape"
   ]
  },
  {
   "cell_type": "code",
   "execution_count": 11,
   "metadata": {},
   "outputs": [],
   "source": [
    "import dataset.constants as r_constants"
   ]
  },
  {
   "cell_type": "code",
   "execution_count": 12,
   "metadata": {},
   "outputs": [],
   "source": [
    "bb_enc = BBEncoder(\n",
    "    hidden_dim=128,\n",
    "    nhead=4,\n",
    "    nlayer=4,\n",
    "    emb_dim=32,\n",
    "    label_cols=r_constants.TOP5_LABEL_COLS,\n",
    ")"
   ]
  },
  {
   "cell_type": "code",
   "execution_count": 13,
   "metadata": {},
   "outputs": [],
   "source": [
    "bb_out = bb_enc(batch_map['bb_label'])"
   ]
  },
  {
   "cell_type": "code",
   "execution_count": 14,
   "metadata": {},
   "outputs": [
    {
     "data": {
      "text/plain": [
       "torch.Size([4, 128])"
      ]
     },
     "execution_count": 14,
     "metadata": {},
     "output_type": "execute_result"
    }
   ],
   "source": [
    "bb_out.shape"
   ]
  },
  {
   "cell_type": "code",
   "execution_count": 15,
   "metadata": {},
   "outputs": [
    {
     "data": {
      "text/plain": [
       "[{'cat': {'gender': tensor(0, dtype=torch.int32)}, 'num': tensor([-1.7269])},\n",
       " {'cat': {'gender': tensor(0, dtype=torch.int32)}, 'num': tensor([-0.5909])},\n",
       " {'cat': {'gender': tensor(0, dtype=torch.int32)}, 'num': tensor([1.1401])},\n",
       " {'cat': {'gender': tensor(0, dtype=torch.int32)}, 'num': tensor([-0.8614])}]"
      ]
     },
     "execution_count": 15,
     "metadata": {},
     "output_type": "execute_result"
    }
   ],
   "source": [
    "batch_map['clinical_data']"
   ]
  },
  {
   "cell_type": "code",
   "execution_count": 16,
   "metadata": {},
   "outputs": [],
   "source": [
    "clinical_enc = FCCatEncoder(\n",
    "    num_dim=1,\n",
    "    hidden_dim=128,\n",
    "    n_layers=5,\n",
    ")"
   ]
  },
  {
   "cell_type": "code",
   "execution_count": 17,
   "metadata": {},
   "outputs": [],
   "source": [
    "clinical_out = clinical_enc(batch_map['clinical_data'])"
   ]
  },
  {
   "cell_type": "code",
   "execution_count": 18,
   "metadata": {},
   "outputs": [
    {
     "data": {
      "text/plain": [
       "torch.Size([4, 128])"
      ]
     },
     "execution_count": 18,
     "metadata": {},
     "output_type": "execute_result"
    }
   ],
   "source": [
    "clinical_out.shape"
   ]
  },
  {
   "cell_type": "code",
   "execution_count": 19,
   "metadata": {},
   "outputs": [
    {
     "data": {
      "text/plain": [
       "[tensor([False, False, False, False, False, False, False, False,  True, False,\n",
       "         False, False, False, False]),\n",
       " tensor([False, False, False, False, False, False, False, False,  True, False,\n",
       "         False, False, False, False]),\n",
       " tensor([False, False, False, False, False, False, False, False, False, False,\n",
       "         False, False, False, False]),\n",
       " tensor([False, False, False, False, False, False, False, False,  True, False,\n",
       "         False, False, False,  True])]"
      ]
     },
     "execution_count": 19,
     "metadata": {},
     "output_type": "execute_result"
    }
   ],
   "source": [
    "batch_map['chexpert_label']"
   ]
  },
  {
   "cell_type": "code",
   "execution_count": 20,
   "metadata": {},
   "outputs": [],
   "source": [
    "chexpert_enc = FCEncoder(\n",
    "    hidden_dim=128,\n",
    "    input_dim=14,\n",
    "    n_layers=5,\n",
    ")"
   ]
  },
  {
   "cell_type": "code",
   "execution_count": 21,
   "metadata": {},
   "outputs": [],
   "source": [
    "chexpert_out = chexpert_enc(torch.stack(batch_map['chexpert_label']).float())"
   ]
  },
  {
   "cell_type": "code",
   "execution_count": 22,
   "metadata": {},
   "outputs": [
    {
     "data": {
      "text/plain": [
       "torch.Size([4, 128])"
      ]
     },
     "execution_count": 22,
     "metadata": {},
     "output_type": "execute_result"
    }
   ],
   "source": [
    "chexpert_out.shape"
   ]
  },
  {
   "cell_type": "code",
   "execution_count": 23,
   "metadata": {},
   "outputs": [],
   "source": [
    "report_enc = ReportEncoder(hidden_dim=128, n_heads=4, n_layers=4)"
   ]
  },
  {
   "cell_type": "code",
   "execution_count": 24,
   "metadata": {},
   "outputs": [],
   "source": [
    "from transformers import BioGptTokenizer\n"
   ]
  },
  {
   "cell_type": "code",
   "execution_count": 29,
   "metadata": {},
   "outputs": [
    {
     "name": "stderr",
     "output_type": "stream",
     "text": [
      "c:\\Users\\mike8\\OneDrive\\文件\\GitHub\\fusion-experiments\\model\\encoders.py:235: UserWarning: To copy construct from a tensor, it is recommended to use sourceTensor.clone().detach() or sourceTensor.clone().detach().requires_grad_(True), rather than torch.tensor(sourceTensor).\n",
      "  return out[torch.arange(n), torch.tensor(lengths).long() - 1, :]\n"
     ]
    }
   ],
   "source": [
    "report_out = report_enc(\n",
    "    batch_map['report'],\n",
    ")"
   ]
  },
  {
   "cell_type": "code",
   "execution_count": 30,
   "metadata": {},
   "outputs": [
    {
     "data": {
      "text/plain": [
       "torch.Size([4, 128])"
      ]
     },
     "execution_count": 30,
     "metadata": {},
     "output_type": "execute_result"
    }
   ],
   "source": [
    "report_out.shape"
   ]
  },
  {
   "cell_type": "code",
   "execution_count": null,
   "metadata": {},
   "outputs": [],
   "source": []
  }
 ],
 "metadata": {
  "kernelspec": {
   "display_name": "pytorch",
   "language": "python",
   "name": "python3"
  },
  "language_info": {
   "codemirror_mode": {
    "name": "ipython",
    "version": 3
   },
   "file_extension": ".py",
   "mimetype": "text/x-python",
   "name": "python",
   "nbconvert_exporter": "python",
   "pygments_lexer": "ipython3",
   "version": "3.9.18"
  }
 },
 "nbformat": 4,
 "nbformat_minor": 2
}
